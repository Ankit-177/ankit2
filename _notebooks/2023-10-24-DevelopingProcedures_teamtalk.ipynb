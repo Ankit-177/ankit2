{
 "cells": [
  {
   "cell_type": "markdown",
   "metadata": {},
   "source": [
    "---\n",
    "toc: true\n",
    "comments: false\n",
    "layout: post\n",
    "title: Team teach lesson - Developing procedures\n",
    "description: Popcorn hacks and homework assignments for the developing procedures team lesson.\n",
    "type: hacks\n",
    "courses: { compsci: {week: 10} }\n",
    "---"
   ]
  },
  {
   "cell_type": "markdown",
   "metadata": {},
   "source": [
    "## 3.12-3.13 Developing Procedures"
   ]
  },
  {
   "cell_type": "markdown",
   "metadata": {},
   "source": [
    "## What is a procedure?\n",
    "\n",
    "A procedure is a named group of programming instructions\n",
    "\n",
    "2 Main Types of Procedures:\n",
    "- Procedure that returns a value of data\n",
    "- Procedure that executes a block of statements\n",
    "\n",
    "## Learning Objective:\n",
    "Be able to look at code and determine the purpose, and be able to write a procedure to manage complexity of program. understand the following terms and what they look like as well as how to use them in code\n",
    "\n",
    "- Procedure Parameters: variables that are defined within the procedure's parentheses and serve as placeholders for values that can be passed to the procedure when it is called, allowing the procedure to operate on different data or values each time it is executed.\n",
    "- Procedure Algorithms: a step-by-step set of instructions that defines a specific task or operation to be performed within a computer program\n",
    "- Procedure Return Values: data or results that a procedure can send back to the part of the program that called it, allowing the procedure to provide information or perform a specific task and then share the outcome with the rest of the program."
   ]
  },
  {
   "cell_type": "markdown",
   "metadata": {},
   "source": [
    "## Name, Parameters, Algorithm, Return Values, and Calling a Procedure"
   ]
  },
  {
   "cell_type": "code",
   "execution_count": 60,
   "metadata": {},
   "outputs": [
    {
     "name": "stdout",
     "output_type": "stream",
     "text": [
      "88\n"
     ]
    }
   ],
   "source": [
    "## Example of Procedure that Updates A Quiz Grade\n",
    "def updatequiz(currentgrade, quizgrade):\n",
    "    if quizgrade > currentgrade:\n",
    "        currentgrade = quizgrade\n",
    "    return currentgrade\n",
    "\n",
    "currentgrade = 75\n",
    "quizgrade = 88\n",
    "currentgrade = updatequiz(currentgrade, quizgrade)\n",
    "print(currentgrade)"
   ]
  },
  {
   "cell_type": "markdown",
   "metadata": {},
   "source": [
    "## Popcorn Hack #1:\n",
    "Identify the name of the procedure below, tell us the purpose and parameters of the procedure and identify the algorithm return value:\n",
    "\n",
    "- Name: `updateweather`. The purpose is to compare `currentweather` to `weather` and print the appropriate statements.\n",
    "- Parameters: `currentweather`, `weather`\n",
    "- Algorithm (paste lines): \n",
    "`if currentweather> weather:`\n",
    "        `weather = currentweather`\n",
    "        `print(\"today is warmer than yesterday\")`\n",
    "    `else:`\n",
    "        `print(\"today is colder than yesterday\")`\n",
    "    `return currentgrade`\n",
    "- Return Value: `today is warmer than yesterday` and `the temperature right now is 71 degrees`\n",
    "- Calling Procedure Line: `currentgrade = updateweather(currentweather, weather)`"
   ]
  },
  {
   "cell_type": "code",
   "execution_count": 40,
   "metadata": {},
   "outputs": [
    {
     "name": "stdout",
     "output_type": "stream",
     "text": [
      "today is warmer than yesterday\n",
      "the temperature right now is 71 degrees\n"
     ]
    }
   ],
   "source": [
    "def updateweather(currentweather, weather):\n",
    "    if currentweather> weather:\n",
    "        weather = currentweather\n",
    "        print(\"today is warmer than yesterday\")\n",
    "    else:\n",
    "        print(\"today is colder than yesterday\")\n",
    "    return currentgrade\n",
    "\n",
    "currentweather = 71\n",
    "weather = 66\n",
    "currentgrade = updateweather(currentweather, weather)\n",
    "print(\"the temperature right now is\", currentweather, \"degrees\")"
   ]
  },
  {
   "cell_type": "markdown",
   "metadata": {},
   "source": [
    "## Costructing Classes for Names & Data with Procedures"
   ]
  },
  {
   "cell_type": "code",
   "execution_count": 1,
   "metadata": {},
   "outputs": [],
   "source": [
    "# Class Construction\n",
    "class Short:\n",
    "    name = \"\"\n",
    "    height = 0\n",
    "\n",
    "class Tall:\n",
    "    name = \"\"\n",
    "    height = 0\n",
    "\n",
    "# Procedure to Classify as Short or Tall\n",
    "def classify_person(name, height):\n",
    "    if height < 70:\n",
    "        short_person = Short()\n",
    "        short_person.name = name\n",
    "        return short_person\n",
    "    else:\n",
    "        tall_person = Tall()\n",
    "        tall_person.name = name\n",
    "        return tall_person"
   ]
  },
  {
   "cell_type": "markdown",
   "metadata": {},
   "source": [
    "Class Definitions: The code defines two classes, \"Short\" and \"Tall,\" each having two attributes: name and height. These attributes can be used to store the name and height of individuals.\n",
    "\n",
    "Classification Procedure: The classify_person function takes two parameters: name and height. Depending on the provided height, it creates an instance of either the \"Short\" or \"Tall\" class. It sets the name attribute for the person and returns the corresponding instance."
   ]
  },
  {
   "cell_type": "markdown",
   "metadata": {},
   "source": [
    "## Popcorn Hack #2:\n",
    "Use the example above to use a procedure to create two classes of your choosing. Create at least 2 objects and class them with your procedure"
   ]
  },
  {
   "cell_type": "code",
   "execution_count": 12,
   "metadata": {},
   "outputs": [],
   "source": [
    "# Popcorn Hack 2\n",
    "\n",
    "class adult:\n",
    "    name = \"\"\n",
    "    age = 0\n",
    "\n",
    "class minor:\n",
    "    name = \"\"\n",
    "    age = 0\n",
    "\n",
    "def classify_age(name, age):\n",
    "    if age > 18:\n",
    "        adult_person = adult()\n",
    "        adult_person.name = name\n",
    "        return adult_person\n",
    "    else:\n",
    "        minor_person = minor()\n",
    "        minor_person.name = name\n",
    "        return minor_person"
   ]
  },
  {
   "cell_type": "markdown",
   "metadata": {},
   "source": [
    "## Calling Methods of an Object w/ Procedures"
   ]
  },
  {
   "cell_type": "code",
   "execution_count": 4,
   "metadata": {},
   "outputs": [
    {
     "name": "stdout",
     "output_type": "stream",
     "text": [
      "Nihar is Tall.\n",
      "Will is Tall.\n",
      "Jayden is Tall.\n",
      "Howie is Tall.\n"
     ]
    }
   ],
   "source": [
    "# Creating Classes\n",
    "class Short:\n",
    "    name = \"\"\n",
    "    height = 0\n",
    "\n",
    "class Tall:\n",
    "    name = \"\"\n",
    "    height = 0\n",
    "\n",
    "#Procedure to classify as short or tall\n",
    "def classify_height(name, height):\n",
    "    if height < 70:\n",
    "        short_person = Short()\n",
    "        short_person.name = name\n",
    "        return short_person\n",
    "    else:\n",
    "        tall_person = Tall()\n",
    "        tall_person.name = name\n",
    "        return tall_person\n",
    "\n",
    "# Create objects and classify them as short or tall\n",
    "person1 = classify_height(\"Nihar\", 70)\n",
    "person2 = classify_height(\"Will\", 76)\n",
    "person3 = classify_height(\"Jayden\", 75)\n",
    "person4 = classify_height(\"Howie\", 70)\n",
    "\n",
    "# Display results for all four objects\n",
    "for person in [person1, person2, person3, person4]:\n",
    "    print(f\"{person.name} is {'Short' if person is Short else 'Tall'}.\")\n",
    "\n"
   ]
  },
  {
   "cell_type": "markdown",
   "metadata": {},
   "source": [
    "## HW Hacks!!\n",
    "1. Create a procedure that replaces a value with a new one (ex. update height)\n",
    "2. Create a procedure that constructs classes of your choosing and create at least 4 objects to be sorted into your classes. Call your procedure to display your objects."
   ]
  },
  {
   "cell_type": "code",
   "execution_count": 11,
   "metadata": {},
   "outputs": [
    {
     "name": "stdout",
     "output_type": "stream",
     "text": [
      "There is a new high score set by Ankit-177!\n",
      "The new high score is 10915 set by Ankit-177!\n"
     ]
    }
   ],
   "source": [
    "# HW Hack 1\n",
    "\n",
    "def update_highScore(newScore, oldScore, currentHolder, playerName):\n",
    "    if newScore > oldScore:\n",
    "        newScore = oldScore\n",
    "        currentHolder = playerName\n",
    "        print(f\"There is a new high score set by {playerName}!\")\n",
    "    else:\n",
    "        print(f\"The high score remains unchanged. It's still held by {currentHolder}.\")\n",
    "    return newScore, currentHolder\n",
    "\n",
    "newScore = 10988\n",
    "oldScore = 10915\n",
    "currentHolder = \"nikkihekmat\"  # Initialize with the current high score player\n",
    "playerName = \"Ankit-177\"  # Name of the player achieving the new score\n",
    "\n",
    "newScore, playerName = update_highScore(newScore, oldScore, currentHolder, playerName)\n",
    "print(f\"The new high score is {newScore} set by {playerName}!\")"
   ]
  },
  {
   "cell_type": "code",
   "execution_count": 19,
   "metadata": {},
   "outputs": [
    {
     "name": "stdout",
     "output_type": "stream",
     "text": [
      "Ankit is a Elite.\n",
      "Messi is a Elite.\n",
      "Foden is a Pro.\n",
      "Martinelli is a Pro.\n",
      "Mudryk is a Beginner.\n",
      "Onana is a Beginner.\n"
     ]
    }
   ],
   "source": [
    "# HW Hack 2\n",
    "\n",
    "class elite:\n",
    "    name = \"\"\n",
    "    score = 0\n",
    "\n",
    "class pro:\n",
    "    name = \"\"\n",
    "    score = 0\n",
    "    \n",
    "class beginner:\n",
    "    name = \"\"\n",
    "    score = 0\n",
    "\n",
    "def classify_status(name, score):\n",
    "    if score > 1000000:\n",
    "        elite_player = elite()\n",
    "        elite_player.name = name\n",
    "        return elite_player\n",
    "    elif score > 500000 and score < 1000000:\n",
    "        pro_player = pro()\n",
    "        pro_player.name = name\n",
    "        return pro_player\n",
    "    else: \n",
    "        beginner_player = beginner()\n",
    "        beginner_player.name = name\n",
    "        return beginner_player\n",
    "    \n",
    "player1 = classify_status(\"Ankit\", 2495678)\n",
    "player2 = classify_status(\"Messi\", 2190876)\n",
    "player3 = classify_status(\"Foden\", 998762)\n",
    "player4 = classify_status(\"Martinelli\", 567428)\n",
    "player5 = classify_status(\"Mudryk\", 239874)\n",
    "player6 = classify_status(\"Onana\", 125696)\n",
    "\n",
    "for player in [player1, player2, player3, player4, player5, player6]:\n",
    "    status = \"\"\n",
    "    if isinstance(player, elite):\n",
    "        status = \"Elite\"\n",
    "    elif isinstance(player, pro):\n",
    "        status = \"Pro\"\n",
    "    elif isinstance(player, beginner):\n",
    "        status = \"Beginner\"\n",
    "    \n",
    "    print(f\"{player.name} is a {status}.\")"
   ]
  }
 ],
 "metadata": {
  "kernelspec": {
   "display_name": "Python 3",
   "language": "python",
   "name": "python3"
  },
  "language_info": {
   "codemirror_mode": {
    "name": "ipython",
    "version": 3
   },
   "file_extension": ".py",
   "mimetype": "text/x-python",
   "name": "python",
   "nbconvert_exporter": "python",
   "pygments_lexer": "ipython3",
   "version": "3.10.12"
  }
 },
 "nbformat": 4,
 "nbformat_minor": 2
}
