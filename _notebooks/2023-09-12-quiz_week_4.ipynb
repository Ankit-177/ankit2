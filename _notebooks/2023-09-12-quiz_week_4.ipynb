{
 "cells": [
  {
   "cell_type": "markdown",
   "metadata": {},
   "source": [
    "---\n",
    "toc: true\n",
    "comments: false\n",
    "layout: post\n",
    "title: Python Quiz v2.0\n",
    "description: This is a quiz made using Python that utlizes lists, dictionaries and while loops to reduce the amount of code required.\n",
    "type: hacks\n",
    "courses: { compsci: {week: 4} }\n",
    "---"
   ]
  },
  {
   "cell_type": "code",
   "execution_count": 10,
   "metadata": {},
   "outputs": [
    {
     "name": "stdout",
     "output_type": "stream",
     "text": [
      "Hello, ankitp running /usr/bin/python\n",
      "You will be asked 7 questions.\n",
      "Are you ready to take a quiz about soccer?\n",
      "Question: What country was Lionel Messi born in?\n"
     ]
    },
    {
     "name": "stdout",
     "output_type": "stream",
     "text": [
      "arg is correct\n",
      "Question: What was Lionel Messi's first club?\n",
      "grandoli is correct\n",
      "Question: Which club does Ángel Di María play for now (2022)?\n",
      "S.L. Benfica is correct\n",
      "Question: Who won the Golden Boot at the 2022 FIFA World Cup in Qatar?\n",
      "mbappe is correct\n",
      "Question: What club does Sadio Mané play for currently (2022)?\n",
      "Al-Nassr is correct\n",
      "Question: Which club's football academy did Jadon Sancho come through as a teenager?\n",
      "Man City is correct\n",
      "Question: Who is the current all-time top scorer for Finland?\n",
      "pukki is correct\n",
      "ankitp You passed!\n",
      "ankitp, you scored 7/7, which is a 100.0%!\n"
     ]
    }
   ],
   "source": [
    "#imports the libary\n",
    "import getpass, sys\n",
    "#defines the function\n",
    "#promt is the questions\n",
    "def question_with_response(prompt):\n",
    "    print(\"Question: \" + prompt)\n",
    "    msg = input()\n",
    "    return msg\n",
    "#variables\n",
    "questions = 7\n",
    "correct = 0\n",
    "#into words\n",
    "print('Hello, ' + getpass.getuser() + \" running \" + sys.executable)\n",
    "print(\"You will be asked \" + str(questions) + \" questions.\")\n",
    "print(\"Are you ready to take a quiz about soccer?\")\n",
    "question = {\n",
    "    \"questions\": [ \"What country was Lionel Messi born in?\",\"What was Lionel Messi's first club?\",\"Which club does Ángel Di María play for now (2022)?\",\"Who won the Golden Boot at the 2022 FIFA World Cup in Qatar?\",\"What club does Sadio Mané play for currently (2022)?\",\"Which club's football academy did Jadon Sancho come through as a teenager?\",\"Who is the current all-time top scorer for Finland?\"]\n",
    "}\n",
    "Answers = {\n",
    "    \"0\" : [\"argentina\",\"Argentina\", \"Arg\", \"arg\"],\n",
    "    \"1\" : [\"grandoli\", \"Grandoli\", \"Grandoli FC\", \"grandoli fc\"],\n",
    "    \"2\" : [\"Benfica\",\"benfica\", \"S.L. Benfica\", \"SL Benfica\", \"sl benfica\", \"s.l. benfica\"],\n",
    "    \"3\" : [\"Mbappé\",\"mbappé\", \"Mbappe\", \"mbappe\", \"Kylian Mbappé\", \"kylian mbappé\", \"Kylian Mbappe\", \"kylian mbappe\", \"Ninja Turtle\"],\n",
    "    \"4\" : [\"Al Nassr\",\"al nassr\", \"Al nassr\", \"Al-Nassr\", \"al-nassr\", \"AlNassr\", \"alnassr\"],\n",
    "    \"5\" : [\"Manchester City\",\"manchester city\", \"Man City\", \"man city\", \"Manchester City FC\", \"manchester city fc\", \"Man city\", \"Manchester city\"],\n",
    "    \"6\" : [\"Teemu Pukki\",\"teemu pukki\", \"Pukki\", \"pukki\"]\n",
    "}\n",
    "q = -1\n",
    "while q <6:\n",
    "    q += 1\n",
    "    rsp = question_with_response(question[\"questions\"][q])\n",
    "    if rsp in Answers[str(q)]:\n",
    "        print( rsp + \" is correct\")\n",
    "        correct += 1\n",
    "    else:\n",
    "        print( rsp +(\" is incorrect\"))\n",
    "# the value in the variable correct is divided by the value in the variable question and then multiplied by 100\n",
    "# this value is saved in the variable percentage\n",
    "percentage = correct/questions *100\n",
    "if percentage < 50:\n",
    "    print(getpass.getuser() + \" You failed.\")\n",
    "else:\n",
    "    print(getpass.getuser() +\" You passed!\")\n",
    "#getpass.getuser() takes the user name  and str converts the variable correct into a string\n",
    "#this is the same with the variable question\n",
    "print(getpass.getuser() + \", you scored \" + str(correct) +\"/\" + str(questions) + \", which is a \" + str(percentage) + \"%!\")\n",
    "# To show the percentage, the calculated value in the variable \"percentage\" then convert into a string"
   ]
  }
 ],
 "metadata": {
  "kernelspec": {
   "display_name": "Python 3",
   "language": "python",
   "name": "python3"
  },
  "language_info": {
   "codemirror_mode": {
    "name": "ipython",
    "version": 3
   },
   "file_extension": ".py",
   "mimetype": "text/x-python",
   "name": "python",
   "nbconvert_exporter": "python",
   "pygments_lexer": "ipython3",
   "version": "3.10.12"
  },
  "orig_nbformat": 4
 },
 "nbformat": 4,
 "nbformat_minor": 2
}
