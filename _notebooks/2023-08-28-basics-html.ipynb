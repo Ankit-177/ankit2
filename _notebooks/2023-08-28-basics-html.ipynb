{
 "cells": [
  {
   "cell_type": "markdown",
   "metadata": {},
   "source": [
    "---\n",
    "layout: post\n",
    "hide: false\n",
    "title: Basics of HTML Guide\n",
    "description: An introduction to basic HTML, and resources to learn more.\n",
    "type: ccc\n",
    "permalink: /basics/html\n",
    "author: Rohan Juneja\n",
    "---"
   ]
  },
  {
   "cell_type": "raw",
   "metadata": {},
   "source": [
    "{% include nav_basics.html %}\n"
   ]
  },
  {
   "cell_type": "markdown",
   "metadata": {},
   "source": [
    "\n",
    "# How does HTML work?\n",
    "Similar function to Markdown, syntax defines how stuff should be displayed\n",
    "- HTML is based on beginning and closing tags `<tagname>content</tagname>`\n",
    "  - Note the \"/\" on the ending or closing tag of the pair"
   ]
  },
  {
   "cell_type": "markdown",
   "metadata": {},
   "source": [
    "## Compare markdown to html below\n",
    "This below example shows comparison of a [heading](https://www.w3schools.com/html/html_headings.asp) and [paragraph](https://www.w3schools.com/html/html_paragraphs.asp).  Click on links to see many more HTML examples."
   ]
  },
  {
   "cell_type": "code",
   "execution_count": 8,
   "metadata": {},
   "outputs": [
    {
     "data": {
      "text/markdown": [
       "\n",
       "### Markdown: This is a Heading\n",
       "\n",
       "This is a paragraph\n"
      ],
      "text/plain": [
       "<IPython.core.display.Markdown object>"
      ]
     },
     "metadata": {},
     "output_type": "display_data"
    }
   ],
   "source": [
    "%%markdown\n",
    "\n",
    "### Markdown: This is a Heading\n",
    "\n",
    "This is a paragraph\n"
   ]
  },
  {
   "cell_type": "code",
   "execution_count": 9,
   "metadata": {
    "vscode": {
     "languageId": "html"
    }
   },
   "outputs": [
    {
     "data": {
      "text/html": [
       "\n",
       "<h3>HTML: This is a Heading</h3>\n",
       "<p>This is a paragraph.</p>\n"
      ],
      "text/plain": [
       "<IPython.core.display.HTML object>"
      ]
     },
     "metadata": {},
     "output_type": "display_data"
    }
   ],
   "source": [
    "%%html\n",
    "\n",
    "<h3>HTML: This is a Heading</h3>\n",
    "<p>This is a paragraph.</p>"
   ]
  },
  {
   "cell_type": "markdown",
   "metadata": {},
   "source": [
    "# Attributes\n",
    "- Learn about [attributes](https://www.w3schools.com/html/html_attributes.asp) \n",
    "- Tags can have additional info in the form of attributes\n",
    "- Attributes usually come in name/value pairs like: name=\"value\"\n",
    "\n",
    "```html\n",
    "<tagname attribute_name=\"attribute_value\" another_attribute=\"another_value\">inner html text</tagname>\n",
    "```\n",
    "\n",
    "- href example with attribute for web link and inner html to describe link\n",
    "\n",
    "```html\n",
    "<a href=\"https://www.w3schools.com/html/default.asp\">Visit W3Schools HTML Page</a>\n",
    "```"
   ]
  },
  {
   "cell_type": "markdown",
   "metadata": {},
   "source": [
    "## Sample Markdown vs HTML Tags\n",
    "Image Tag - Markdown\n",
    "\n",
    "```md\n",
    "![describe image](link to image)\n",
    "```\n",
    "\n",
    "Image Tag - HTML\n",
    "\n",
    "```html\n",
    "<!-- no content so no end tag, width/height is optional (in pixels) -->\n",
    "<img alt=\"describe image\" src=\"link to image\" width=\"100\" height=\"200\">\n",
    "```\n",
    "\n",
    "Link Tag - Markdown\n",
    "\n",
    "```md\n",
    "[link text](link)\n",
    "```\n",
    "\n",
    "Link Tag - HTML\n",
    "\n",
    "```html\n",
    "<a href=\"link\">link text</a>\n",
    "```\n",
    "\n",
    "Bolded Text - Markdown\n",
    "\n",
    "```md\n",
    "**Bolded Text**\n",
    "```\n",
    "\n",
    "Bolded Text - HTML\n",
    "\n",
    "```md\n",
    "<strong>Bolded Text</strong>\n",
    "```\n",
    "\n",
    "Italic Text - Markdown\n",
    "\n",
    "```md\n",
    "*Italic Text*\n",
    "```\n",
    "\n",
    "Italic Text - HTML\n",
    "\n",
    "```md\n",
    "<i>Italic Text</i>\n",
    "```"
   ]
  },
  {
   "cell_type": "markdown",
   "metadata": {},
   "source": [
    "# More tags (not really in markdown)\n",
    "P tag (just represeants a paragraph/normal text)\n",
    "\n",
    "```html\n",
    "<p>This is a paragraph</p>\n",
    "```\n",
    "\n",
    "Button\n",
    "\n",
    "```html\n",
    "<button>some button text</button>\n",
    "```\n",
    "\n",
    "Div (groups together related content)\n",
    "\n",
    "```html\n",
    "<!-- first information -->\n",
    "<div>\n",
    "    <!-- notice how tags can be put INSIDE eachother -->\n",
    "    <p>This is the first paragarph of section 1</p>\n",
    "    <p>This is the second paragraph of section 1</p>\n",
    "</div>\n",
    "\n",
    "<!-- second information -->\n",
    "<div>\n",
    "    <!-- notice how tags can be put INSIDE eachother -->\n",
    "    <p>This is the first paragarph of section 2</p>\n",
    "    <p>This is the second paragraph of section 2</p>\n",
    "</div>\n",
    "```\n",
    "\n"
   ]
  },
  {
   "cell_type": "markdown",
   "metadata": {},
   "source": [
    "# Resources\n",
    "- https://www.w3schools.com/html/default.asp\n",
    "- I will show a demo of how to find information on this website"
   ]
  },
  {
   "cell_type": "markdown",
   "metadata": {},
   "source": [
    "# HTML Hacks\n",
    "- Below is a wireframe for an HTML element you will create. A wireframe is a rough visual representation of HTML elements on a page and isn't necessarily to scale or have the exact styling that the final HTML will have. Using the syntax above, try to create an HTML snippet that corresponds to the below wireframe.\n",
    "- The \"a tags\" can contain any links that you want\n",
    "\n",
    "![wireframe for html hacks]({{ site.baseurl }}/images/wireframe.png)"
   ]
  },
  {
   "cell_type": "code",
   "execution_count": 20,
   "metadata": {
    "vscode": {
     "languageId": "html"
    }
   },
   "outputs": [
    {
     "data": {
      "text/html": [
       "\n",
       "<div>\n",
       "    <p>This is a list of the UEFA Champions League winners for the past 5 years.</p>\n",
       "    <a href=\"https://en.wikipedia.org/wiki/List_of_European_Cup_and_UEFA_Champions_League_finals\"><button>Source: All-time UEFA Champions League Winners</button></a>\n",
       "</div>\n",
       "\n",
       "<div>\n",
       "    <br>\n",
       "    <p><b>The 2018-19 Champions League final</b> was played between <b>Liverpool</b> and <b>Tottenham Hotspur</b> at the Metropolitano Stadium in Madrid, Spain. <b>Liverpool</b> won the game <b>2-0</b>.</p>\n",
       "    <p>Click on the image below for more information about the match.</p>\n",
       "    <a href=\"https://en.wikipedia.org/wiki/2018%E2%80%9319_UEFA_Champions_League\"><img src=\"https://cdn.vox-cdn.com/thumbor/zQL38YWc15GfSXuDylA4atRuLac=/0x0:4097x2731/1200x800/filters:focal(2267x671:2921x1325)/cdn.vox-cdn.com/uploads/chorus_image/image/63933989/1153093191.jpg.0.jpg\"></a><br><br>\n",
       "    <p><b>The 2019-20 Champions League final</b> was played between <b>Bayern Munich</b> and <b>Paris Saint-Germain</b> at the Estádio da Luz stadium in Lisbon, Portugal. <b>Bayern Munich</b> won the game <b>1-0</b>.</p>\n",
       "    <p><b>FUN FACT:</b> This match was played behind closed doors due to the COVID-19 pandemic. Click on the image below for more information about the match.</p>\n",
       "    <a href=\"https://en.wikipedia.org/wiki/2019%E2%80%9320_UEFA_Champions_League\"><img src=\"https://i2-prod.mirror.co.uk/incoming/article23908401.ece/ALTERNATES/s615b/0_Champions-League-Quarter-Final-Second-Leg-Paris-St-Germain-v-Bayern-Munich.jpg\"></a><br><br>\n",
       "    <p><b>The 2020-21 Champions League final</b> was played between <b>Manchester City</b> and <b>Chelsea</b> at the Estádio do Dragão stadium in Porto, Portgual. <b>Chelsea</b> won the game <b>1-0</b>.</p>\n",
       "    <p><b>FUN FACT:</b> This match was played with a limited attendance due to the COVID-19 pandemic. Click on the image below for more information about the match.</p>\n",
       "    <a href=\"https://en.wikipedia.org/wiki/2020%E2%80%9321_UEFA_Champions_League\"><img src=\"https://cdn.vox-cdn.com/thumbor/okTCEToiN8-ZqNRYTkjuuxC8sDc=/0x0:3901x2601/1200x800/filters:focal(1130x236:1754x860)/cdn.vox-cdn.com/uploads/chorus_image/image/69904041/1321404820.0.jpg\"></a><br><br>\n",
       "    <p><b>The 2021-22 Champions League final</b> was played between <b>Liverpool</b> and <b>Real Madrid</b> at the Stade De France in Saint-Denis, France. <b>Real Madrid</b> won the game <b>1-0</b>.</p>\n",
       "    <p>Click on the image below for more information about the match.</p>\n",
       "    <a href=\"https://en.wikipedia.org/wiki/2021%E2%80%9322_UEFA_Champions_League\"><img src=\"https://media.cnn.com/api/v1/images/stellar/prod/220528220437-madrid-goal.jpg?c=original\"></a><br><br>\n",
       "    <p><b>The 2022-23 Champions League final</b> was played between <b>Manchester City</b> and <b>Inter Milan</b> at the Atatürk Olympic Stadium in Istanbul, Turkey. <b>Manchester City</b> won the game <b>1-0</b>.</p>\n",
       "    <p>Click on the image below for more information about the match.</p>\n",
       "    <a href=\"https://en.wikipedia.org/wiki/2022%E2%80%9323_UEFA_Champions_League\"><img src=\"https://cdn.theathletic.com/app/uploads/2023/06/10164133/rodri-city-goal-1024x689.jpg\"></a><br><br>\n",
       "</div>\n"
      ],
      "text/plain": [
       "<IPython.core.display.HTML object>"
      ]
     },
     "metadata": {},
     "output_type": "display_data"
    }
   ],
   "source": [
    "%%html\n",
    "\n",
    "<div>\n",
    "    <p>This is a list of the UEFA Champions League winners for the past 5 years.</p>\n",
    "    <a href=\"https://en.wikipedia.org/wiki/List_of_European_Cup_and_UEFA_Champions_League_finals\"><button>Source: All-time UEFA Champions League Winners</button></a>\n",
    "</div>\n",
    "\n",
    "<div>\n",
    "    <br>\n",
    "    <p><b>The 2018-19 Champions League final</b> was played between <b>Liverpool</b> and <b>Tottenham Hotspur</b> at the Metropolitano Stadium in Madrid, Spain. <b>Liverpool</b> won the game <b>2-0</b>.</p>\n",
    "    <p>Click on the image below for more information about the match.</p>\n",
    "    <a href=\"https://en.wikipedia.org/wiki/2018%E2%80%9319_UEFA_Champions_League\"><img src=\"https://cdn.vox-cdn.com/thumbor/zQL38YWc15GfSXuDylA4atRuLac=/0x0:4097x2731/1200x800/filters:focal(2267x671:2921x1325)/cdn.vox-cdn.com/uploads/chorus_image/image/63933989/1153093191.jpg.0.jpg\"></a><br><br>\n",
    "    <p><b>The 2019-20 Champions League final</b> was played between <b>Bayern Munich</b> and <b>Paris Saint-Germain</b> at the Estádio da Luz stadium in Lisbon, Portugal. <b>Bayern Munich</b> won the game <b>1-0</b>.</p>\n",
    "    <p><b>FUN FACT:</b> This match was played behind closed doors due to the COVID-19 pandemic. Click on the image below for more information about the match.</p>\n",
    "    <a href=\"https://en.wikipedia.org/wiki/2019%E2%80%9320_UEFA_Champions_League\"><img src=\"https://i2-prod.mirror.co.uk/incoming/article23908401.ece/ALTERNATES/s615b/0_Champions-League-Quarter-Final-Second-Leg-Paris-St-Germain-v-Bayern-Munich.jpg\"></a><br><br>\n",
    "    <p><b>The 2020-21 Champions League final</b> was played between <b>Manchester City</b> and <b>Chelsea</b> at the Estádio do Dragão stadium in Porto, Portgual. <b>Chelsea</b> won the game <b>1-0</b>.</p>\n",
    "    <p><b>FUN FACT:</b> This match was played with a limited attendance due to the COVID-19 pandemic. Click on the image below for more information about the match.</p>\n",
    "    <a href=\"https://en.wikipedia.org/wiki/2020%E2%80%9321_UEFA_Champions_League\"><img src=\"https://cdn.vox-cdn.com/thumbor/okTCEToiN8-ZqNRYTkjuuxC8sDc=/0x0:3901x2601/1200x800/filters:focal(1130x236:1754x860)/cdn.vox-cdn.com/uploads/chorus_image/image/69904041/1321404820.0.jpg\"></a><br><br>\n",
    "    <p><b>The 2021-22 Champions League final</b> was played between <b>Liverpool</b> and <b>Real Madrid</b> at the Stade De France in Saint-Denis, France. <b>Real Madrid</b> won the game <b>1-0</b>.</p>\n",
    "    <p>Click on the image below for more information about the match.</p>\n",
    "    <a href=\"https://en.wikipedia.org/wiki/2021%E2%80%9322_UEFA_Champions_League\"><img src=\"https://media.cnn.com/api/v1/images/stellar/prod/220528220437-madrid-goal.jpg?c=original\"></a><br><br>\n",
    "    <p><b>The 2022-23 Champions League final</b> was played between <b>Manchester City</b> and <b>Inter Milan</b> at the Atatürk Olympic Stadium in Istanbul, Turkey. <b>Manchester City</b> won the game <b>1-0</b>.</p>\n",
    "    <p>Click on the image below for more information about the match.</p>\n",
    "    <a href=\"https://en.wikipedia.org/wiki/2022%E2%80%9323_UEFA_Champions_League\"><img src=\"https://cdn.theathletic.com/app/uploads/2023/06/10164133/rodri-city-goal-1024x689.jpg\"></a><br><br>\n",
    "</div>"
   ]
  }
 ],
 "metadata": {
  "kernelspec": {
   "display_name": "Python 3",
   "language": "python",
   "name": "python3"
  },
  "language_info": {
   "codemirror_mode": {
    "name": "ipython",
    "version": 3
   },
   "file_extension": ".py",
   "mimetype": "text/x-python",
   "name": "python",
   "nbconvert_exporter": "python",
   "pygments_lexer": "ipython3",
   "version": "3.10.12"
  },
  "orig_nbformat": 4
 },
 "nbformat": 4,
 "nbformat_minor": 2
}
