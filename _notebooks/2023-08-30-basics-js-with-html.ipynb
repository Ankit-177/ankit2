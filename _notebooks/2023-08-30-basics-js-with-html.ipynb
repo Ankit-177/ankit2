{
 "cells": [
  {
   "cell_type": "markdown",
   "metadata": {},
   "source": [
    "---\n",
    "title: Using Javascript with HTML DOM\n",
    "hide: false\n",
    "description: A Tech Talk on how javascript can interact with HTML DOM\n",
    "type: ccc\n",
    "permalink: /basics/dom\n",
    "author: Rohan Juneja\n",
    "---"
   ]
  },
  {
   "cell_type": "raw",
   "metadata": {},
   "source": [
    "{% include nav_basics.html %}\n"
   ]
  },
  {
   "cell_type": "markdown",
   "metadata": {},
   "source": [
    "\n",
    "# Following along\n",
    "Remember to \"git pull\" on teacher repository to update to lates.\n",
    "- Run this notebook in VSCode\n",
    "- Activate Help-Toogel Developer Tools to add console outputs to runtime experience"
   ]
  },
  {
   "cell_type": "markdown",
   "metadata": {},
   "source": [
    "# Referencing HTML elements using javascript\n",
    "- To get an HTML element, use ``document.getElementById(\"idTag\")``\n",
    "- You will use the ID that you set in your HTML\n",
    "- if you `console.log` the resulting variable you will get some information about the element"
   ]
  },
  {
   "cell_type": "code",
   "execution_count": null,
   "metadata": {},
   "outputs": [],
   "source": [
    "%%html\n",
    "<!-- the ID must be specified within the element -->\n",
    "<h1 id=\"domTitleID\">My Title</h1>\n",
    "\n",
    "<!-- javascript goes here -->\n",
    "<script>\n",
    "var titleElement = document.getElementById(\"domTitleID\")\n",
    "<!-- outputs h1 tag -->\n",
    "console.log(\"Example #1, show element in DOM\")\n",
    "console.log(titleElement)\n",
    "</script>"
   ]
  },
  {
   "cell_type": "markdown",
   "metadata": {},
   "source": [
    "# Getting the data within the HTML element\n",
    "- The variable titleElement stores the \"object\"\n",
    "- Basically think of this as the group of data enclosed in HTML tag\n",
    "- To access a certain type of data from an \"object\" we use \".\" notation\n",
    "  - .innerHTML gets data within center of tag"
   ]
  },
  {
   "cell_type": "code",
   "execution_count": null,
   "metadata": {},
   "outputs": [],
   "source": [
    "%%html\n",
    "<!-- the ID must be specified within the element -->\n",
    "<h1 id=\"domTitleIDget\">My Title</h1>\n",
    "\n",
    "<!-- javascript goes here -->\n",
    "<script>\n",
    "var titleElement = document.getElementById(\"domTitleIDget\")\n",
    "<!-- outputs h1 innerHTML from h1 tag -->\n",
    "console.log(\"Example #2, show innerHTML\")\n",
    "console.log(titleElement.innerHTML)\n",
    "</script>"
   ]
  },
  {
   "cell_type": "markdown",
   "metadata": {},
   "source": [
    "# Setting the data within the HTML Element\n",
    "- The innerHTML data in this \"object\" can be set like a variable\n",
    "  - Change the value of the innerHTML using the \"=\" (assignment) operator"
   ]
  },
  {
   "cell_type": "code",
   "execution_count": null,
   "metadata": {},
   "outputs": [],
   "source": [
    "%%html\n",
    "<!-- the ID must be specified on the element -->\n",
    "<h1 id=\"domTitleIDset\">My Title</h1>\n",
    "\n",
    "<!-- javascript goes here -->\n",
    "<script>\n",
    "var titleElement = document.getElementById(\"domTitleIDset\")\n",
    "titleElement.innerHTML = \"Set and Update My Title\"\n",
    "<!-- outputs h1 innerHTML after h1 tag has been updated -->\n",
    "console.log(\"Example #3, update innerHTML\")\n",
    "console.log(titleElement.innerHTML)\n",
    "</script>"
   ]
  },
  {
   "cell_type": "markdown",
   "metadata": {},
   "source": [
    "# Creating elements\n",
    "- Create a new element with the document.createElement function -> takes in the type of element\n",
    "- Set properties in the element just like the \"h1\" example"
   ]
  },
  {
   "cell_type": "code",
   "execution_count": null,
   "metadata": {},
   "outputs": [],
   "source": [
    "%%html\n",
    "<!-- the ID must be specified on the element -->\n",
    "<div id=\"divContainerID\">\n",
    "    <h1 id=\"h1ElementID\">My Title</h1>\n",
    "</div>\n",
    "\n",
    "<!-- javascript goes here -->\n",
    "<script>\n",
    "   // creates a new element\n",
    "   var pElement = document.createElement(\"p\")\n",
    "   pElement.innerHTML = \"Starting a paragraph of text.\"\n",
    "   \n",
    "   // outputs p tag after it has been created\n",
    "   console.log(\"Example #4, create a p tag within JS\")\n",
    "   console.log(pElement)\n",
    "</script>"
   ]
  },
  {
   "cell_type": "markdown",
   "metadata": {},
   "source": [
    "# Issue! How to Create element that appears in HTML?\n",
    "- Here is a visualization of what is happening => the \"p\" is not placed inside the HRML page!\n",
    "![visual on p tag floating]({{ site.baseurl }}/images/dom-visual-1.png)\n"
   ]
  },
  {
   "cell_type": "markdown",
   "metadata": {},
   "source": [
    "# Solution\n",
    "- Correct by placeing the element somewhere in the page\n",
    "- For example, we could add the element within the div\n",
    "   - For this, use the appendChild function on the div object (the parameter would be the p element we created)\n",
    "   - Remember, use the getELementById to get the object for something in the html (the div!)\n",
    "- Updated Diagram\n",
    "![visual on p tag in div]({{ site.baseurl }}/images/dom-visual-2.png)"
   ]
  },
  {
   "cell_type": "code",
   "execution_count": null,
   "metadata": {},
   "outputs": [],
   "source": [
    "%%html\n",
    "<!-- the ID must be specified on the element -->\n",
    "<div id=\"divContainerIDset\">\n",
    "    <h1 id=\"h1ElementIDset\">My Title</h1>\n",
    "</div>\n",
    "\n",
    "<!-- javascript goes here -->\n",
    "<script>\n",
    "   // creates a new element\n",
    "   var pElement = document.createElement(\"p\")\n",
    "   pElement.innerHTML = \"Starting a paragraph of text.\"\n",
    "   \n",
    "   // outputs p tag after it has been created\n",
    "   console.log(\"Example #5, add p tag to HTML\")\n",
    "   console.log(pElement)\n",
    "   \n",
    "   // place the p element inside the HTML page\n",
    "   var div = document.getElementById(\"divContainerIDset\")\n",
    "   div.appendChild(pElement)\n",
    "</script>"
   ]
  },
  {
   "cell_type": "markdown",
   "metadata": {},
   "source": [
    "# Functions in JavaScript, using with DOM\n",
    "- Functions allow you to \"do something\"\n",
    "  - ex. \"eat food\" in a Snake Game\n",
    "- Functions were used in previous examples\n",
    "  - console.log = \"print something\"\n",
    "  - document.getElementById = \"find an element with id\"\n",
    "- Functions take in parameters, what to do (inside the parenthesis)\n",
    "  - the parameter tells console.log what to print\n",
    "  - the parameter in document.getElementById tells the id of the element\n",
    "- Functions can be used with DOM as well, thes will be shown below"
   ]
  },
  {
   "cell_type": "markdown",
   "metadata": {},
   "source": [
    "# Creeating functions\n",
    "- document functions functions were used to create a lot of functionality, but how can a developer create their own?\n",
    "- function are useful to avoid writing the same code over and over again\n",
    "- function can contain parameters for input (they effectively become variables)\n",
    "- function can contain a return, the are the \"output\" of the function"
   ]
  },
  {
   "cell_type": "code",
   "execution_count": null,
   "metadata": {},
   "outputs": [],
   "source": [
    "%%html\n",
    "<!-- the ID must be specified on the element -->\n",
    "<div id=\"divContainerIDfunction\">\n",
    "    <h1 id=\"h1ElementIDfunction\">My Title</h1>\n",
    "</div>\n",
    "\n",
    "<!-- javascript goew here -->\n",
    "<script>\n",
    "    // define a function => takes parameter text, returns a new p tab\n",
    "    function createPTag(text) {\n",
    "        // creates a new element\n",
    "        var pElement = document.createElement(\"p\")\n",
    "\n",
    "        // using the parameter like a variable\n",
    "        pElement.innerHTML = text\n",
    "        \n",
    "        // outputs p tag after it has been created\n",
    "        console.log(\"Example #6, add p tag using a function\")\n",
    "        console.log(pElement)\n",
    "\n",
    "        return pElement;\n",
    "    }\n",
    "\n",
    "    // using a function to create p tag\n",
    "    var pTag = createPTag(\"Starting a paragraph with cooler text than before.\")\n",
    "\n",
    "    // place the p element in the webpage\n",
    "    var div = document.getElementById(\"divContainerIDfunction\")\n",
    "    div.appendChild(pTag)\n",
    "</script>"
   ]
  },
  {
   "cell_type": "markdown",
   "metadata": {},
   "source": [
    "# OnClick Event\n",
    "- Run a function when an event occurs\n",
    "   - In this case, the p tag is created when the button is clicked"
   ]
  },
  {
   "cell_type": "code",
   "execution_count": null,
   "metadata": {},
   "outputs": [],
   "source": [
    "%%html\n",
    "<!-- the ID must be specified on the elements -->\n",
    "<button id=\"buttonID\">Click here!</button>\n",
    "\n",
    "<div id=\"divContainerIDbutton\">\n",
    "    <h1 id=\"h1ElementIDbutton\">My Title</h1>\n",
    "</div>\n",
    "\n",
    "<!-- our javascript goe here -->\n",
    "<script>\n",
    "    // define a function => takes parameter text, returns a new p tab\n",
    "    function createPTag(text) {\n",
    "        // creates a new element\n",
    "        var pElement = document.createElement(\"p\")\n",
    "\n",
    "        // using the parameter like a variable\n",
    "        pElement.innerHTML = text\n",
    "        \n",
    "        // outputs p tag after it has been created\n",
    "        console.log(\"Example #7.1, add p tag using a function\")\n",
    "        console.log(pElement)\n",
    "\n",
    "        return pElement;\n",
    "    }\n",
    "\n",
    "    // create a function that sets specific text and adds to div\n",
    "    function addPTagOnButton() {\n",
    "        // using our new function\n",
    "        var pTag = createPTag(\"Starting a paragraph with text created on button press.\")\n",
    "\n",
    "        // place the p element in the webpage\n",
    "        var div = document.getElementById(\"divContainerIDbutton\")\n",
    "\n",
    "        // add p tag to the div\n",
    "        div.appendChild(pTag)\n",
    "        \n",
    "        // outputs p tag after it has been created\n",
    "        console.log(\"Example #7.2, update container adding a 'p' tag\")\n",
    "        console.log(div)\n",
    "    }\n",
    "\n",
    "    // add the P tag when our button is clicked\n",
    "    var myButton = document.getElementById(\"buttonID\")\n",
    "    myButton.onclick = addPTagOnButton\n",
    "    \n",
    "</script>"
   ]
  },
  {
   "cell_type": "markdown",
   "metadata": {},
   "source": [
    "# Hacks\n",
    "- Copy your HTML code from the HTML hacks. Write a Javascript snippet to switch the links of the two a tags when a button is pressed. Once they are switched, change the inner HTML of the top p tag to the word \"switched!\""
   ]
  },
  {
   "cell_type": "code",
   "execution_count": 6,
   "metadata": {
    "vscode": {
     "languageId": "html"
    }
   },
   "outputs": [
    {
     "data": {
      "text/html": [
       "\n",
       "<div>\n",
       "  <p id=\"p1\">This is a list of the UEFA Champions League winners for the past 5 years.</p>\n",
       "  <a href=\"https://en.wikipedia.org/wiki/List_of_European_Cup_and_UEFA_Champions_League_finals\"><button id=\"btn\">Source: All-time UEFA Champions League Winners</button></a>\n",
       "</div>\n",
       "\n",
       "<div>\n",
       "  <br>\n",
       "  <p><b>The 2018-19 Champions League final</b> was played between <b>Liverpool</b> and <b>Tottenham Hotspur</b> at the Metropolitano Stadium in Madrid, Spain. <b>Liverpool</b> won the game <b>2-0</b>.</p>\n",
       "  <p>Click on the image below for more information about the match.</p>\n",
       "  <a href=\"https://en.wikipedia.org/wiki/2018%E2%80%9319_UEFA_Champions_League\"><img src=\"https://cdn.vox-cdn.com/thumbor/zQL38YWc15GfSXuDylA4atRuLac=/0x0:4097x2731/1200x800/filters:focal(2267x671:2921x1325)/cdn.vox-cdn.com/uploads/chorus_image/image/63933989/1153093191.jpg.0.jpg\"></a><br><br>\n",
       "  <p><b>The 2019-20 Champions League final</b> was played between <b>Bayern Munich</b> and <b>Paris Saint-Germain</b> at the Estádio da Luz stadium in Lisbon, Portugal. <b>Bayern Munich</b> won the game <b>1-0</b>.</p>\n",
       "  <p><b>FUN FACT:</b> This match was played behind closed doors due to the COVID-19 pandemic. Click on the image below for more information about the match.</p>\n",
       "  <a href=\"https://en.wikipedia.org/wiki/2019%E2%80%9320_UEFA_Champions_League\"><img src=\"https://i2-prod.mirror.co.uk/incoming/article23908401.ece/ALTERNATES/s615b/0_Champions-League-Quarter-Final-Second-Leg-Paris-St-Germain-v-Bayern-Munich.jpg\"></a><br><br>\n",
       "  <p><b>The 2020-21 Champions League final</b> was played between <b>Manchester City</b> and <b>Chelsea</b> at the Estádio do Dragão stadium in Porto, Portgual. <b>Chelsea</b> won the game <b>1-0</b>.</p>\n",
       "  <p><b>FUN FACT:</b> This match was played with a limited attendance due to the COVID-19 pandemic. Click on the image below for more information about the match.</p>\n",
       "  <a href=\"https://en.wikipedia.org/wiki/2020%E2%80%9321_UEFA_Champions_League\"><img src=\"https://cdn.vox-cdn.com/thumbor/okTCEToiN8-ZqNRYTkjuuxC8sDc=/0x0:3901x2601/1200x800/filters:focal(1130x236:1754x860)/cdn.vox-cdn.com/uploads/chorus_image/image/69904041/1321404820.0.jpg\"></a><br><br>\n",
       "  <p><b>The 2021-22 Champions League final</b> was played between <b>Liverpool</b> and <b>Real Madrid</b> at the Stade De France in Saint-Denis, France. <b>Real Madrid</b> won the game <b>1-0</b>.</p>\n",
       "  <p>Click on the image below for more information about the match.</p>\n",
       "  <a href=\"https://en.wikipedia.org/wiki/2021%E2%80%9322_UEFA_Champions_League\"><img src=\"https://media.cnn.com/api/v1/images/stellar/prod/220528220437-madrid-goal.jpg?c=original\"></a><br><br>\n",
       "  <p><b>The 2022-23 Champions League final</b> was played between <b>Manchester City</b> and <b>Inter Milan</b> at the Atatürk Olympic Stadium in Istanbul, Turkey. <b>Manchester City</b> won the game <b>1-0</b>.</p>\n",
       "  <p>Click on the image below for more information about the match.</p>\n",
       "  <a href=\"https://en.wikipedia.org/wiki/2022%E2%80%9323_UEFA_Champions_League\"><img src=\"https://cdn.theathletic.com/app/uploads/2023/06/10164133/rodri-city-goal-1024x689.jpg\"></a><br><br>\n",
       "</div>\n",
       "\n",
       "<script>\n",
       "  document.getElementById(\"btn\").addEventListener(\"click\", function() {\n",
       "    var links = document.getElementsByTagName(\"a\");\n",
       "    for (let i = 0; i < links.length; i++) {\n",
       "      links[i].href = \"https://youtu.be/dQw4w9WgXcQ\";\n",
       "    }\n",
       "    document.getElementById(\"p1\").innerHTML = \"Switched!\";\n",
       "  });\n",
       "</script>\n"
      ],
      "text/plain": [
       "<IPython.core.display.HTML object>"
      ]
     },
     "metadata": {},
     "output_type": "display_data"
    }
   ],
   "source": [
    "%%html\n",
    "\n",
    "<div>\n",
    "  <p id=\"p1\">This is a list of the UEFA Champions League winners for the past 5 years.</p>\n",
    "  <a href=\"https://en.wikipedia.org/wiki/List_of_European_Cup_and_UEFA_Champions_League_finals\"><button id=\"btn\">Source: All-time UEFA Champions League Winners</button></a>\n",
    "</div>\n",
    "\n",
    "<div>\n",
    "  <br>\n",
    "  <p><b>The 2018-19 Champions League final</b> was played between <b>Liverpool</b> and <b>Tottenham Hotspur</b> at the Metropolitano Stadium in Madrid, Spain. <b>Liverpool</b> won the game <b>2-0</b>.</p>\n",
    "  <p>Click on the image below for more information about the match.</p>\n",
    "  <a href=\"https://en.wikipedia.org/wiki/2018%E2%80%9319_UEFA_Champions_League\"><img src=\"https://cdn.vox-cdn.com/thumbor/zQL38YWc15GfSXuDylA4atRuLac=/0x0:4097x2731/1200x800/filters:focal(2267x671:2921x1325)/cdn.vox-cdn.com/uploads/chorus_image/image/63933989/1153093191.jpg.0.jpg\"></a><br><br>\n",
    "  <p><b>The 2019-20 Champions League final</b> was played between <b>Bayern Munich</b> and <b>Paris Saint-Germain</b> at the Estádio da Luz stadium in Lisbon, Portugal. <b>Bayern Munich</b> won the game <b>1-0</b>.</p>\n",
    "  <p><b>FUN FACT:</b> This match was played behind closed doors due to the COVID-19 pandemic. Click on the image below for more information about the match.</p>\n",
    "  <a href=\"https://en.wikipedia.org/wiki/2019%E2%80%9320_UEFA_Champions_League\"><img src=\"https://i2-prod.mirror.co.uk/incoming/article23908401.ece/ALTERNATES/s615b/0_Champions-League-Quarter-Final-Second-Leg-Paris-St-Germain-v-Bayern-Munich.jpg\"></a><br><br>\n",
    "  <p><b>The 2020-21 Champions League final</b> was played between <b>Manchester City</b> and <b>Chelsea</b> at the Estádio do Dragão stadium in Porto, Portgual. <b>Chelsea</b> won the game <b>1-0</b>.</p>\n",
    "  <p><b>FUN FACT:</b> This match was played with a limited attendance due to the COVID-19 pandemic. Click on the image below for more information about the match.</p>\n",
    "  <a href=\"https://en.wikipedia.org/wiki/2020%E2%80%9321_UEFA_Champions_League\"><img src=\"https://cdn.vox-cdn.com/thumbor/okTCEToiN8-ZqNRYTkjuuxC8sDc=/0x0:3901x2601/1200x800/filters:focal(1130x236:1754x860)/cdn.vox-cdn.com/uploads/chorus_image/image/69904041/1321404820.0.jpg\"></a><br><br>\n",
    "  <p><b>The 2021-22 Champions League final</b> was played between <b>Liverpool</b> and <b>Real Madrid</b> at the Stade De France in Saint-Denis, France. <b>Real Madrid</b> won the game <b>1-0</b>.</p>\n",
    "  <p>Click on the image below for more information about the match.</p>\n",
    "  <a href=\"https://en.wikipedia.org/wiki/2021%E2%80%9322_UEFA_Champions_League\"><img src=\"https://media.cnn.com/api/v1/images/stellar/prod/220528220437-madrid-goal.jpg?c=original\"></a><br><br>\n",
    "  <p><b>The 2022-23 Champions League final</b> was played between <b>Manchester City</b> and <b>Inter Milan</b> at the Atatürk Olympic Stadium in Istanbul, Turkey. <b>Manchester City</b> won the game <b>1-0</b>.</p>\n",
    "  <p>Click on the image below for more information about the match.</p>\n",
    "  <a href=\"https://en.wikipedia.org/wiki/2022%E2%80%9323_UEFA_Champions_League\"><img src=\"https://cdn.theathletic.com/app/uploads/2023/06/10164133/rodri-city-goal-1024x689.jpg\"></a><br><br>\n",
    "</div>\n",
    "\n",
    "<script>\n",
    "  document.getElementById(\"btn\").addEventListener(\"click\", function() { // listening for the \"click\" event, which occurs when the button is clicked\n",
    "    var links = document.getElementsByTagName(\"a\"); // retrieves all old <a> links and stores them in a new \"links\" variable\n",
    "    for (let i = 0; i < links.length; i++) { // iterates through all <a> elements as long as 'i' is less than the total number of links in the code\n",
    "      links[i].href = \"https://youtu.be/dQw4w9WgXcQ\"; // changing the link of the button itself and all the other <a> links\n",
    "    }\n",
    "    document.getElementById(\"p1\").innerHTML = \"Switched!\"; // displaying \"Switched!\" once the button or the other <a> links are clicked\n",
    "  });\n",
    "</script>"
   ]
  }
 ],
 "metadata": {
  "kernelspec": {
   "display_name": "Python 3",
   "language": "python",
   "name": "python3"
  },
  "language_info": {
   "codemirror_mode": {
    "name": "ipython",
    "version": 3
   },
   "file_extension": ".py",
   "mimetype": "text/x-python",
   "name": "python",
   "nbconvert_exporter": "python",
   "pygments_lexer": "ipython3",
   "version": "3.10.12"
  },
  "orig_nbformat": 4
 },
 "nbformat": 4,
 "nbformat_minor": 2
}
